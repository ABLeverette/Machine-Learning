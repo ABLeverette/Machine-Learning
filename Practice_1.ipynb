{
  "nbformat": 4,
  "nbformat_minor": 0,
  "metadata": {
    "colab": {
      "name": "Practice_1.ipynb",
      "provenance": [],
      "authorship_tag": "ABX9TyN0H57jGvGfBVXvSxvfRJQF",
      "include_colab_link": true
    },
    "kernelspec": {
      "name": "python3",
      "display_name": "Python 3"
    },
    "language_info": {
      "name": "python"
    }
  },
  "cells": [
    {
      "cell_type": "markdown",
      "metadata": {
        "id": "view-in-github",
        "colab_type": "text"
      },
      "source": [
        "<a href=\"https://colab.research.google.com/github/ABLeverette/Machine-Learning/blob/main/Practice_1.ipynb\" target=\"_parent\"><img src=\"https://colab.research.google.com/assets/colab-badge.svg\" alt=\"Open In Colab\"/></a>"
      ]
    },
    {
      "cell_type": "code",
      "metadata": {
        "id": "hK4c4Iy8LZDz"
      },
      "source": [
        "import numpy as np\n",
        "import tensorflow as tf\n",
        "from tensorflow import keras\n",
        "import pandas as pd\n",
        "import matplotlib.pyplot as plt\n",
        "import PIL\n",
        "import glob\n",
        "import os\n",
        "import zipfile\n",
        "import pickle"
      ],
      "execution_count": 79,
      "outputs": []
    },
    {
      "cell_type": "markdown",
      "metadata": {
        "id": "hf_99Xu8Hx1x"
      },
      "source": [
        "# Image Preprocessing"
      ]
    },
    {
      "cell_type": "code",
      "metadata": {
        "id": "A7aeDra8yt2z"
      },
      "source": [
        "##extract zipped file\n",
        "with zipfile.ZipFile('/content/Spectrograms/Zipped/(Real) Covid.zip',\"r\") as zipFile:\n",
        "  zipFile.extractall('/content/Spectrograms/unZipped/')\n",
        "\n",
        "##collect all jpg from the unzipped file\n",
        "filelist = glob.glob('/content/Spectrograms/unZipped/(Real) Covid/*.jpg')\n",
        "\n",
        "##create a numpy array of the images and dump it into its own file\n",
        "CovidTraining_Data = np.array([np.array(PIL.Image.open(fname)) for fname in filelist])\n",
        "CovidTraining_Data.dump('/content/ PickleFiles/CovidTraing_Data.p')"
      ],
      "execution_count": 89,
      "outputs": []
    },
    {
      "cell_type": "code",
      "metadata": {
        "colab": {
          "base_uri": "https://localhost:8080/"
        },
        "id": "fvir4UuA1TMf",
        "outputId": "56ef7d7f-d00a-4abe-d97c-835f4d3e763f"
      },
      "source": [
        ""
      ],
      "execution_count": 84,
      "outputs": [
        {
          "output_type": "execute_result",
          "data": {
            "text/plain": [
              "array([], dtype=float64)"
            ]
          },
          "metadata": {
            "tags": []
          },
          "execution_count": 84
        }
      ]
    },
    {
      "cell_type": "code",
      "metadata": {
        "id": "NMsn3TeEClpq"
      },
      "source": [
        ""
      ],
      "execution_count": null,
      "outputs": []
    }
  ]
}